{
 "cells": [
  {
   "cell_type": "markdown",
   "metadata": {},
   "source": [
    "\n",
    "# 作業: \n",
    "    \n",
    "    (1)以, Adam, 為例, 調整 batch_size, epoch , 觀察accurancy, loss 的變化\n",
    "    \n",
    "    (2)以同一模型, 分別驗證 SGD, Adam, Rmsprop 的 accurancy"
   ]
  },
  {
   "cell_type": "code",
   "execution_count": 1,
   "metadata": {},
   "outputs": [],
   "source": [
    "import tensorflow.keras\n",
    "#from keras.datasets import cifar10\n",
    "from tensorflow.keras.datasets import mnist \n",
    "from tensorflow.keras.preprocessing.image import ImageDataGenerator\n",
    "from tensorflow.keras.models import Sequential, load_model\n",
    "from tensorflow.keras.layers import Dense, Dropout, Activation, Flatten\n",
    "from tensorflow.keras.layers import Conv2D, MaxPooling2D\n",
    "from tensorflow.keras import optimizers\n",
    "from tensorflow.keras.callbacks import EarlyStopping, ModelCheckpoint\n",
    "import numpy \n"
   ]
  },
  {
   "cell_type": "code",
   "execution_count": 2,
   "metadata": {},
   "outputs": [],
   "source": [
    "#    第一步：選擇模型, 順序模型是多個網絡層的線性堆疊\n",
    " \n",
    "model = Sequential()\n",
    "\n",
    "#   第二步：構建網絡層\n",
    " \n",
    "model.add(Dense( 500,input_shape=(784,))) # 輸入層，28*28=784   \n",
    "model.add(Activation('relu')) # 激活函數是relu   \n",
    "\n",
    "model.add(Dense( 500)) # 隱藏層節點500個   \n",
    "model.add(Activation('relu'))  \n",
    "\n",
    "model.add(Dense( 500)) # 隱藏層節點500個   \n",
    "model.add(Activation('relu'))  \n",
    "\n",
    "model.add(Dense( 500)) # 隱藏層節點500個   \n",
    "model.add(Activation('relu'))  \n",
    "\n",
    "model.add(Dense( 10)) # 輸出結果是10個類別，所以維度是10   \n",
    "model.add(Activation('softmax')) # 最後一層用softmax作為激活函數"
   ]
  },
  {
   "cell_type": "code",
   "execution_count": 3,
   "metadata": {},
   "outputs": [
    {
     "name": "stdout",
     "output_type": "stream",
     "text": [
      "Total Parameters：1149010\n"
     ]
    }
   ],
   "source": [
    "# 模型建立完成後，統計參數總量\n",
    "print(\"Total Parameters：%d\" % model.count_params())"
   ]
  },
  {
   "cell_type": "code",
   "execution_count": 4,
   "metadata": {},
   "outputs": [
    {
     "name": "stdout",
     "output_type": "stream",
     "text": [
      "Model: \"sequential\"\n",
      "_________________________________________________________________\n",
      "Layer (type)                 Output Shape              Param #   \n",
      "=================================================================\n",
      "dense (Dense)                (None, 500)               392500    \n",
      "_________________________________________________________________\n",
      "activation (Activation)      (None, 500)               0         \n",
      "_________________________________________________________________\n",
      "dense_1 (Dense)              (None, 500)               250500    \n",
      "_________________________________________________________________\n",
      "activation_1 (Activation)    (None, 500)               0         \n",
      "_________________________________________________________________\n",
      "dense_2 (Dense)              (None, 500)               250500    \n",
      "_________________________________________________________________\n",
      "activation_2 (Activation)    (None, 500)               0         \n",
      "_________________________________________________________________\n",
      "dense_3 (Dense)              (None, 500)               250500    \n",
      "_________________________________________________________________\n",
      "activation_3 (Activation)    (None, 500)               0         \n",
      "_________________________________________________________________\n",
      "dense_4 (Dense)              (None, 10)                5010      \n",
      "_________________________________________________________________\n",
      "activation_4 (Activation)    (None, 10)                0         \n",
      "=================================================================\n",
      "Total params: 1,149,010\n",
      "Trainable params: 1,149,010\n",
      "Non-trainable params: 0\n",
      "_________________________________________________________________\n"
     ]
    }
   ],
   "source": [
    "# 輸出模型摘要資訊\n",
    "model.summary()"
   ]
  },
  {
   "cell_type": "code",
   "execution_count": 5,
   "metadata": {},
   "outputs": [
    {
     "data": {
      "text/plain": [
       "'\\nRMSprop- Arguments\\nlr: float >= 0. Learning rate.\\nrho: float >= 0.\\nepsilon: float >= 0. Fuzz factor. If None, defaults to K.epsilon().\\ndecay: float >= 0. Learning rate decay over each update.\\n'"
      ]
     },
     "execution_count": 5,
     "metadata": {},
     "output_type": "execute_result"
    }
   ],
   "source": [
    " '''\n",
    " SGD(隨機梯度下降) - Arguments\n",
    "lr: float >= 0. Learning rate.\n",
    "momentum: float >= 0. Parameter that accelerates SGD in the relevant direction and dampens oscillations.\n",
    "decay: float >= 0. Learning rate decay over each update.\n",
    "nesterov: boolean. Whether to apply Nesterov momentum.\n",
    "'''\n",
    "\n",
    "'''\n",
    "RMSprop- Arguments\n",
    "lr: float >= 0. Learning rate.\n",
    "rho: float >= 0.\n",
    "epsilon: float >= 0. Fuzz factor. If None, defaults to K.epsilon().\n",
    "decay: float >= 0. Learning rate decay over each update.\n",
    "'''\n"
   ]
  },
  {
   "cell_type": "code",
   "execution_count": 6,
   "metadata": {},
   "outputs": [],
   "source": [
    "#  第四步：資料分割\n",
    "# 使用Keras自帶的mnist工具讀取數據（第一次需要聯網）\n",
    "(X_train, y_train), (X_test, y_test) = mnist.load_data() \n",
    "\n",
    "# 由於mist的輸入數據維度是(num, 28 , 28)，這裡需要把後面的維度直接拼起來變成784維   \n",
    "X_train = X_train.reshape(X_train.shape[0], X_train.shape[1] * X_train.shape[2 ])\n",
    "X_test = X_test.reshape(X_test.shape[0], X_test.shape[1] * X_test.shape[2 ])  \n",
    "Y_train = (numpy.arange(10) == y_train[:, None]).astype(int)\n",
    "Y_test = (numpy.arange(10) == y_test[:, None]).astype(int)\n"
   ]
  },
  {
   "cell_type": "code",
   "execution_count": 7,
   "metadata": {},
   "outputs": [],
   "source": [
    "'''\n",
    "   宣告並設定\n",
    "   batch_size：對總的樣本數進行分組，每組包含的樣本數量\n",
    "   epochs ：訓練次數\n",
    "   \n",
    "''' \n",
    "batch_size_list = [256, 512]\n",
    "epochs_list = [5, 10]"
   ]
  },
  {
   "cell_type": "code",
   "execution_count": 8,
   "metadata": {},
   "outputs": [
    {
     "name": "stdout",
     "output_type": "stream",
     "text": [
      "Train on 42000 samples, validate on 18000 samples\n",
      "Epoch 1/5\n",
      "42000/42000 [==============================] - 5s 124us/sample - loss: 2.3197 - accuracy: 0.8481 - val_loss: 2.4398 - val_accuracy: 0.8413\n",
      "Epoch 2/5\n",
      "42000/42000 [==============================] - 4s 99us/sample - loss: 2.4327 - accuracy: 0.8418 - val_loss: 2.4438 - val_accuracy: 0.8411\n",
      "Epoch 3/5\n",
      "42000/42000 [==============================] - 5s 114us/sample - loss: 2.5719 - accuracy: 0.8328 - val_loss: 2.7452 - val_accuracy: 0.8215\n",
      "Epoch 4/5\n",
      "42000/42000 [==============================] - 6s 147us/sample - loss: 2.7587 - accuracy: 0.8206 - val_loss: 2.7452 - val_accuracy: 0.8215\n",
      "Epoch 5/5\n",
      "42000/42000 [==============================] - 6s 139us/sample - loss: 2.7587 - accuracy: 0.8206 - val_loss: 2.7452 - val_accuracy: 0.8215\n",
      "\n",
      " test set \n",
      " The batch size=256.000000, epochs=5.000000\n",
      " The test loss is 2.759624 \n",
      " The accuracy of the model is 0.102800 \n",
      "Train on 42000 samples, validate on 18000 samples\n",
      "Epoch 1/10\n",
      "42000/42000 [==============================] - 5s 120us/sample - loss: 2.7587 - accuracy: 0.8206 - val_loss: 2.7452 - val_accuracy: 0.8215\n",
      "Epoch 2/10\n",
      "42000/42000 [==============================] - 5s 126us/sample - loss: 2.7587 - accuracy: 0.8206 - val_loss: 2.7452 - val_accuracy: 0.8215\n",
      "Epoch 3/10\n",
      "42000/42000 [==============================] - 5s 113us/sample - loss: 2.7587 - accuracy: 0.8206 - val_loss: 2.7452 - val_accuracy: 0.8215\n",
      "Epoch 4/10\n",
      "42000/42000 [==============================] - 5s 111us/sample - loss: 2.7587 - accuracy: 0.8206 - val_loss: 2.7452 - val_accuracy: 0.8215\n",
      "Epoch 5/10\n",
      "42000/42000 [==============================] - 5s 115us/sample - loss: 2.7587 - accuracy: 0.8206 - val_loss: 2.7452 - val_accuracy: 0.8215\n",
      "Epoch 6/10\n",
      "42000/42000 [==============================] - 5s 109us/sample - loss: 2.7587 - accuracy: 0.8206 - val_loss: 2.7452 - val_accuracy: 0.8215\n",
      "Epoch 7/10\n",
      "42000/42000 [==============================] - 5s 112us/sample - loss: 2.7587 - accuracy: 0.8206 - val_loss: 2.7452 - val_accuracy: 0.8215\n",
      "Epoch 8/10\n",
      "42000/42000 [==============================] - 5s 111us/sample - loss: 2.7587 - accuracy: 0.8206 - val_loss: 2.7452 - val_accuracy: 0.8215\n",
      "Epoch 9/10\n",
      "42000/42000 [==============================] - 5s 112us/sample - loss: 2.7587 - accuracy: 0.8206 - val_loss: 2.7452 - val_accuracy: 0.8215\n",
      "Epoch 10/10\n",
      "42000/42000 [==============================] - 5s 108us/sample - loss: 2.7587 - accuracy: 0.8206 - val_loss: 2.7452 - val_accuracy: 0.8215\n",
      "\n",
      " test set \n",
      " The batch size=256.000000, epochs=10.000000\n",
      " The test loss is 2.759624 \n",
      " The accuracy of the model is 0.102800 \n",
      "Train on 42000 samples, validate on 18000 samples\n",
      "Epoch 1/5\n",
      "42000/42000 [==============================] - 4s 97us/sample - loss: 2.7587 - accuracy: 0.8206 - val_loss: 2.7452 - val_accuracy: 0.8215\n",
      "Epoch 2/5\n",
      "42000/42000 [==============================] - 4s 93us/sample - loss: 2.7587 - accuracy: 0.8206 - val_loss: 2.7452 - val_accuracy: 0.8215\n",
      "Epoch 3/5\n",
      "42000/42000 [==============================] - 4s 91us/sample - loss: 2.7587 - accuracy: 0.8206 - val_loss: 2.7452 - val_accuracy: 0.8215\n",
      "Epoch 4/5\n",
      "42000/42000 [==============================] - 4s 92us/sample - loss: 2.7587 - accuracy: 0.8206 - val_loss: 2.7452 - val_accuracy: 0.8215\n",
      "Epoch 5/5\n",
      "42000/42000 [==============================] - 4s 91us/sample - loss: 2.7587 - accuracy: 0.8206 - val_loss: 2.7452 - val_accuracy: 0.8215\n",
      "\n",
      " test set \n",
      " The batch size=512.000000, epochs=5.000000\n",
      " The test loss is 2.759624 \n",
      " The accuracy of the model is 0.102800 \n",
      "Train on 42000 samples, validate on 18000 samples\n",
      "Epoch 1/10\n",
      "42000/42000 [==============================] - 4s 96us/sample - loss: 2.7587 - accuracy: 0.8206 - val_loss: 2.7452 - val_accuracy: 0.8215\n",
      "Epoch 2/10\n",
      "42000/42000 [==============================] - 4s 89us/sample - loss: 2.7587 - accuracy: 0.8206 - val_loss: 2.7452 - val_accuracy: 0.8215\n",
      "Epoch 3/10\n",
      "42000/42000 [==============================] - 4s 88us/sample - loss: 2.7587 - accuracy: 0.8206 - val_loss: 2.7452 - val_accuracy: 0.8215\n",
      "Epoch 4/10\n",
      "42000/42000 [==============================] - 4s 89us/sample - loss: 2.7587 - accuracy: 0.8206 - val_loss: 2.7452 - val_accuracy: 0.8215\n",
      "Epoch 5/10\n",
      "42000/42000 [==============================] - 4s 89us/sample - loss: 2.7587 - accuracy: 0.8206 - val_loss: 2.7452 - val_accuracy: 0.8215\n",
      "Epoch 6/10\n",
      "42000/42000 [==============================] - 4s 89us/sample - loss: 2.7587 - accuracy: 0.8206 - val_loss: 2.7452 - val_accuracy: 0.8215\n",
      "Epoch 7/10\n",
      "42000/42000 [==============================] - 4s 89us/sample - loss: 2.7587 - accuracy: 0.8206 - val_loss: 2.7452 - val_accuracy: 0.8215\n",
      "Epoch 8/10\n",
      "42000/42000 [==============================] - 4s 93us/sample - loss: 2.7587 - accuracy: 0.8206 - val_loss: 2.7452 - val_accuracy: 0.8215\n",
      "Epoch 9/10\n",
      "42000/42000 [==============================] - 4s 100us/sample - loss: 2.7587 - accuracy: 0.8206 - val_loss: 2.7452 - val_accuracy: 0.8215\n",
      "Epoch 10/10\n",
      "42000/42000 [==============================] - 4s 92us/sample - loss: 2.7587 - accuracy: 0.8206 - val_loss: 2.7452 - val_accuracy: 0.8215\n",
      "\n",
      " test set \n",
      " The batch size=512.000000, epochs=10.000000\n",
      " The test loss is 2.759624 \n",
      " The accuracy of the model is 0.102800 \n"
     ]
    }
   ],
   "source": [
    "# 第五步：訓練, 修正 model 參數\n",
    "#Blas GEMM launch failed , 避免動態分配GPU / CPU, 出現問題\n",
    "import tensorflow as tf\n",
    "#gpu_options = tf.GPUOptions(per_process_gpu_memory_fraction=0.333)\n",
    "#sess = tf.Session(config=tf.ConfigProto(gpu_options=gpu_options))\n",
    "\n",
    "# 第三步：編譯, \n",
    "opt = optimizers.Adam()\n",
    "\n",
    "for batch_size in batch_size_list:\n",
    "    for epochs in epochs_list:\n",
    "        model.compile(optimizer = opt, loss = 'binary_crossentropy', metrics = ['accuracy'])\n",
    "        history = model.fit(X_train,Y_train,batch_size = batch_size, epochs=epochs, shuffle=True,verbose=1,validation_split=0.3 )\n",
    "        \n",
    "        #    第六步：輸出\n",
    "        print ( \"\" )\n",
    "        print ( \" test set \" )\n",
    "        scores = model.evaluate(X_test,Y_test,batch_size=200,verbose= 0)\n",
    "        print ( \" The batch size=%f, epochs=%f\" %(batch_size, epochs) )\n",
    "        #print ( \" The test loss is %f \" % scores)\n",
    "        print ( \" The test loss is %f \" %scores[0])\n",
    "        result = model.predict(X_test,batch_size=200,verbose= 0)\n",
    "\n",
    "        result_max = numpy.argmax(result, axis = 1 )\n",
    "        test_max = numpy.argmax(Y_test, axis = 1 )\n",
    "\n",
    "        result_bool = numpy.equal(result_max, test_max)\n",
    "        true_num = numpy.sum(result_bool)\n",
    "        print ( \" The accuracy of the model is %f \" % (true_num/len(result_bool)))"
   ]
  },
  {
   "cell_type": "code",
   "execution_count": null,
   "metadata": {},
   "outputs": [],
   "source": []
  }
 ],
 "metadata": {
  "kernelspec": {
   "display_name": "Python 3",
   "language": "python",
   "name": "python3"
  },
  "language_info": {
   "codemirror_mode": {
    "name": "ipython",
    "version": 3
   },
   "file_extension": ".py",
   "mimetype": "text/x-python",
   "name": "python",
   "nbconvert_exporter": "python",
   "pygments_lexer": "ipython3",
   "version": "3.7.0"
  }
 },
 "nbformat": 4,
 "nbformat_minor": 2
}
