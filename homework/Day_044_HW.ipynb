{
 "cells": [
  {
   "cell_type": "markdown",
   "metadata": {},
   "source": [
    "## 作業\n",
    "\n",
    "1. 試著調整 RandomForestClassifier(...) 中的參數，並觀察是否會改變結果？\n",
    "2. 改用其他資料集 (boston, wine)，並與回歸模型與決策樹的結果進行比較"
   ]
  },
  {
   "cell_type": "code",
   "execution_count": 1,
   "metadata": {},
   "outputs": [
    {
     "name": "stderr",
     "output_type": "stream",
     "text": [
      "/Users/chenxinyu/anaconda3/lib/python3.7/site-packages/sklearn/ensemble/weight_boosting.py:29: DeprecationWarning: numpy.core.umath_tests is an internal NumPy module and should not be imported. It will be removed in a future NumPy release.\n",
      "  from numpy.core.umath_tests import inner1d\n"
     ]
    }
   ],
   "source": [
    "from sklearn import datasets, metrics\n",
    "from sklearn.ensemble import RandomForestClassifier\n",
    "from sklearn.model_selection import train_test_split"
   ]
  },
  {
   "cell_type": "code",
   "execution_count": 2,
   "metadata": {},
   "outputs": [
    {
     "name": "stdout",
     "output_type": "stream",
     "text": [
      "n_estimators=10\n",
      "max_depth=2, Acuuracy=97.37\n",
      "max_depth=4, Acuuracy=94.74\n",
      "max_depth=6, Acuuracy=94.74\n",
      "max_depth=8, Acuuracy=97.37\n",
      "n_estimators=20\n",
      "max_depth=2, Acuuracy=97.37\n",
      "max_depth=4, Acuuracy=97.37\n",
      "max_depth=6, Acuuracy=97.37\n",
      "max_depth=8, Acuuracy=97.37\n",
      "n_estimators=30\n",
      "max_depth=2, Acuuracy=94.74\n",
      "max_depth=4, Acuuracy=97.37\n",
      "max_depth=6, Acuuracy=97.37\n",
      "max_depth=8, Acuuracy=94.74\n",
      "n_estimators=40\n",
      "max_depth=2, Acuuracy=97.37\n",
      "max_depth=4, Acuuracy=97.37\n",
      "max_depth=6, Acuuracy=97.37\n",
      "max_depth=8, Acuuracy=97.37\n",
      "n_estimators=50\n",
      "max_depth=2, Acuuracy=94.74\n",
      "max_depth=4, Acuuracy=97.37\n",
      "max_depth=6, Acuuracy=97.37\n",
      "max_depth=8, Acuuracy=97.37\n",
      "n_estimators=60\n",
      "max_depth=2, Acuuracy=97.37\n",
      "max_depth=4, Acuuracy=94.74\n",
      "max_depth=6, Acuuracy=97.37\n",
      "max_depth=8, Acuuracy=94.74\n",
      "n_estimators=70\n",
      "max_depth=2, Acuuracy=97.37\n",
      "max_depth=4, Acuuracy=97.37\n",
      "max_depth=6, Acuuracy=97.37\n",
      "max_depth=8, Acuuracy=97.37\n",
      "n_estimators=80\n",
      "max_depth=2, Acuuracy=97.37\n",
      "max_depth=4, Acuuracy=97.37\n",
      "max_depth=6, Acuuracy=97.37\n",
      "max_depth=8, Acuuracy=97.37\n",
      "n_estimators=90\n",
      "max_depth=2, Acuuracy=97.37\n",
      "max_depth=4, Acuuracy=97.37\n",
      "max_depth=6, Acuuracy=97.37\n",
      "max_depth=8, Acuuracy=97.37\n"
     ]
    }
   ],
   "source": [
    "iris = datasets.load_iris()\n",
    "x_train, x_test, y_train, y_test = train_test_split(iris.data, iris.target, test_size=0.25, random_state=4)\n",
    "for i in range(10, 100, 10):\n",
    "    print(\"n_estimators=%d\"% i)\n",
    "    for j in range(2, 10, 2):\n",
    "        clf = RandomForestClassifier(n_estimators=i, max_depth=j)\n",
    "        clf.fit(x_train, y_train)\n",
    "        y_pred = clf.predict(x_test)\n",
    "\n",
    "        acc = metrics.accuracy_score(y_test, y_pred)\n",
    "        print(\"max_depth=%d, Acuuracy=%.2f\" % (j, acc*100))"
   ]
  },
  {
   "cell_type": "code",
   "execution_count": 3,
   "metadata": {},
   "outputs": [
    {
     "name": "stdout",
     "output_type": "stream",
     "text": [
      "n_estimators=10\n",
      "max_depth=2, Acuuracy=93.33\n",
      "max_depth=4, Acuuracy=97.78\n",
      "max_depth=6, Acuuracy=97.78\n",
      "max_depth=8, Acuuracy=97.78\n",
      "n_estimators=20\n",
      "max_depth=2, Acuuracy=97.78\n",
      "max_depth=4, Acuuracy=97.78\n",
      "max_depth=6, Acuuracy=100.00\n",
      "max_depth=8, Acuuracy=100.00\n",
      "n_estimators=30\n",
      "max_depth=2, Acuuracy=95.56\n",
      "max_depth=4, Acuuracy=100.00\n",
      "max_depth=6, Acuuracy=97.78\n",
      "max_depth=8, Acuuracy=97.78\n",
      "n_estimators=40\n",
      "max_depth=2, Acuuracy=97.78\n",
      "max_depth=4, Acuuracy=97.78\n",
      "max_depth=6, Acuuracy=97.78\n",
      "max_depth=8, Acuuracy=97.78\n",
      "n_estimators=50\n",
      "max_depth=2, Acuuracy=97.78\n",
      "max_depth=4, Acuuracy=97.78\n",
      "max_depth=6, Acuuracy=100.00\n",
      "max_depth=8, Acuuracy=100.00\n",
      "n_estimators=60\n",
      "max_depth=2, Acuuracy=97.78\n",
      "max_depth=4, Acuuracy=100.00\n",
      "max_depth=6, Acuuracy=97.78\n",
      "max_depth=8, Acuuracy=97.78\n",
      "n_estimators=70\n",
      "max_depth=2, Acuuracy=97.78\n",
      "max_depth=4, Acuuracy=97.78\n",
      "max_depth=6, Acuuracy=97.78\n",
      "max_depth=8, Acuuracy=97.78\n",
      "n_estimators=80\n",
      "max_depth=2, Acuuracy=97.78\n",
      "max_depth=4, Acuuracy=97.78\n",
      "max_depth=6, Acuuracy=97.78\n",
      "max_depth=8, Acuuracy=97.78\n",
      "n_estimators=90\n",
      "max_depth=2, Acuuracy=97.78\n",
      "max_depth=4, Acuuracy=97.78\n",
      "max_depth=6, Acuuracy=97.78\n",
      "max_depth=8, Acuuracy=97.78\n"
     ]
    }
   ],
   "source": [
    "wine = datasets.load_wine()\n",
    "x_train, x_test, y_train, y_test = train_test_split(wine.data, wine.target, test_size=0.25, random_state=4)\n",
    "for i in range(10, 100, 10):\n",
    "    print(\"n_estimators=%d\"% i)\n",
    "    for j in range(2, 10, 2):\n",
    "        clf = RandomForestClassifier(n_estimators=i, max_depth=j)\n",
    "        clf.fit(x_train, y_train)\n",
    "        y_pred = clf.predict(x_test)\n",
    "\n",
    "        acc = metrics.accuracy_score(y_test, y_pred)\n",
    "        print(\"max_depth=%d, Acuuracy=%.2f\" % (j, acc*100))"
   ]
  },
  {
   "cell_type": "code",
   "execution_count": null,
   "metadata": {},
   "outputs": [],
   "source": []
  }
 ],
 "metadata": {
  "kernelspec": {
   "display_name": "Python 3",
   "language": "python",
   "name": "python3"
  },
  "language_info": {
   "codemirror_mode": {
    "name": "ipython",
    "version": 3
   },
   "file_extension": ".py",
   "mimetype": "text/x-python",
   "name": "python",
   "nbconvert_exporter": "python",
   "pygments_lexer": "ipython3",
   "version": "3.7.0"
  }
 },
 "nbformat": 4,
 "nbformat_minor": 2
}
