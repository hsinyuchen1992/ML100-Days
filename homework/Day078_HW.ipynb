{
 "cells": [
  {
   "cell_type": "markdown",
   "metadata": {},
   "source": [
    "## Work\n",
    "1. 請嘗試將 preproc_x 替換成以每筆資料的 min/max 進行標準化至 -1 ~ 1 間，再進行訓練\n",
    "2. 請嘗試將 mlp 疊更深 (e.g 5~10 層)，進行訓練後觀察 learning curve 的走勢\n",
    "3. (optional) 請改用 GPU 進行訓練 (如果你有 GPU 的話)，比較使用 CPU 與 GPU 的訓練速度"
   ]
  },
  {
   "cell_type": "code",
   "execution_count": 1,
   "metadata": {},
   "outputs": [
    {
     "data": {
      "text/plain": [
       "'\\nYour code here\\n'"
      ]
     },
     "execution_count": 1,
     "metadata": {},
     "output_type": "execute_result"
    }
   ],
   "source": [
    "## 確認硬體資源\n",
    "\"\"\"\n",
    "Your code here\n",
    "\"\"\""
   ]
  },
  {
   "cell_type": "code",
   "execution_count": 2,
   "metadata": {},
   "outputs": [],
   "source": [
    "import os\n",
    "import tensorflow.keras as keras\n",
    "\n",
    "# Try to enable GPU (optional)\n"
   ]
  },
  {
   "cell_type": "code",
   "execution_count": 3,
   "metadata": {},
   "outputs": [],
   "source": [
    "train, test = keras.datasets.cifar10.load_data()"
   ]
  },
  {
   "cell_type": "code",
   "execution_count": 6,
   "metadata": {},
   "outputs": [],
   "source": [
    "## 資料前處理\n",
    "\"\"\"\n",
    "Your code here\n",
    "\"\"\"\n",
    "from sklearn.preprocessing import MinMaxScaler\n",
    "def preproc_x(data):\n",
    "    #original_shape = data.shape\n",
    "    data = data.reshape((len(data), -1))\n",
    "    scaler = MinMaxScaler(feature_range=(-1, 1))\n",
    "    scaler.fit(data)\n",
    "    x = scaler.transform(data)\n",
    "    #x = data.reshape(original_shape)\n",
    "    return x\n",
    "\n",
    "def preproc_y(y, num_classes=10):\n",
    "    if y.shape[-1] == 1:\n",
    "        y = keras.utils.to_categorical(y, num_classes)\n",
    "    return y"
   ]
  },
  {
   "cell_type": "code",
   "execution_count": 7,
   "metadata": {},
   "outputs": [
    {
     "name": "stdout",
     "output_type": "stream",
     "text": [
      "(50000, 32, 32, 3)\n"
     ]
    },
    {
     "name": "stderr",
     "output_type": "stream",
     "text": [
      "/Users/chenxinyu/anaconda3/lib/python3.7/site-packages/sklearn/utils/validation.py:595: DataConversionWarning: Data with input dtype uint8 was converted to float64 by MinMaxScaler.\n",
      "  warnings.warn(msg, DataConversionWarning)\n",
      "/Users/chenxinyu/anaconda3/lib/python3.7/site-packages/sklearn/utils/validation.py:595: DataConversionWarning: Data with input dtype uint8 was converted to float64 by MinMaxScaler.\n",
      "  warnings.warn(msg, DataConversionWarning)\n"
     ]
    }
   ],
   "source": [
    "x_train, y_train = train\n",
    "x_test, y_test = test\n",
    "\n",
    "print(x_train.shape)\n",
    "\n",
    "# Preproc the inputs\n",
    "x_train = preproc_x(x_train)\n",
    "x_test = preproc_x(x_test)\n",
    "\n",
    "# Preprc the outputs\n",
    "y_train = preproc_y(y_train)\n",
    "y_test = preproc_y(y_test)"
   ]
  },
  {
   "cell_type": "code",
   "execution_count": 8,
   "metadata": {},
   "outputs": [
    {
     "name": "stdout",
     "output_type": "stream",
     "text": [
      "Model: \"model\"\n",
      "_________________________________________________________________\n",
      "Layer (type)                 Output Shape              Param #   \n",
      "=================================================================\n",
      "input_1 (InputLayer)         [(None, 3072)]            0         \n",
      "_________________________________________________________________\n",
      "hidden_layer1 (Dense)        (None, 512)               1573376   \n",
      "_________________________________________________________________\n",
      "hidden_layer2 (Dense)        (None, 256)               131328    \n",
      "_________________________________________________________________\n",
      "hidden_layer3 (Dense)        (None, 128)               32896     \n",
      "_________________________________________________________________\n",
      "hidden_layer4 (Dense)        (None, 64)                8256      \n",
      "_________________________________________________________________\n",
      "hidden_layer5 (Dense)        (None, 32)                2080      \n",
      "_________________________________________________________________\n",
      "output (Dense)               (None, 10)                330       \n",
      "=================================================================\n",
      "Total params: 1,748,266\n",
      "Trainable params: 1,748,266\n",
      "Non-trainable params: 0\n",
      "_________________________________________________________________\n"
     ]
    }
   ],
   "source": [
    "\"\"\"\n",
    "Your code here\n",
    "\"\"\"\n",
    "def build_mlp(input_shape, output_units=10, num_neurons=[512, 256, 128, 64, 32]):\n",
    "    input_layer = keras.layers.Input(input_shape)\n",
    "    \n",
    "    for i, n_units in enumerate(num_neurons):\n",
    "        if i == 0:\n",
    "            x = keras.layers.Dense(units=n_units, activation=\"relu\", name=\"hidden_layer\"+str(i+1))(input_layer)\n",
    "        else:\n",
    "            x = keras.layers.Dense(units=n_units, activation=\"relu\", name=\"hidden_layer\"+str(i+1))(x)\n",
    "    \n",
    "    out = keras.layers.Dense(units=output_units, activation=\"softmax\", name=\"output\")(x)\n",
    "    model = keras.models.Model(inputs=[input_layer], outputs=[out])\n",
    "    return model\n",
    "\n",
    "model = build_mlp(input_shape=x_train.shape[1:])\n",
    "model.summary()"
   ]
  },
  {
   "cell_type": "code",
   "execution_count": 9,
   "metadata": {},
   "outputs": [],
   "source": [
    "## 超參數設定\n",
    "LEARNING_RATE = 0.001\n",
    "EPOCHS = 100\n",
    "BATCH_SIZE = 256"
   ]
  },
  {
   "cell_type": "code",
   "execution_count": 10,
   "metadata": {},
   "outputs": [],
   "source": [
    "optimizer = keras.optimizers.Adam(lr=LEARNING_RATE)\n",
    "model.compile(loss=\"categorical_crossentropy\", metrics=[\"accuracy\"], optimizer=optimizer)"
   ]
  },
  {
   "cell_type": "code",
   "execution_count": 11,
   "metadata": {},
   "outputs": [
    {
     "name": "stdout",
     "output_type": "stream",
     "text": [
      "Train on 50000 samples, validate on 10000 samples\n",
      "Epoch 1/100\n",
      "50000/50000 [==============================] - 6s 126us/sample - loss: 1.7148 - accuracy: 0.3902 - val_loss: 1.5668 - val_accuracy: 0.4453\n",
      "Epoch 2/100\n",
      "50000/50000 [==============================] - 6s 128us/sample - loss: 1.4837 - accuracy: 0.4776 - val_loss: 1.4658 - val_accuracy: 0.4892\n",
      "Epoch 3/100\n",
      "50000/50000 [==============================] - 6s 129us/sample - loss: 1.3657 - accuracy: 0.5202 - val_loss: 1.4051 - val_accuracy: 0.5112\n",
      "Epoch 4/100\n",
      "50000/50000 [==============================] - 6s 129us/sample - loss: 1.2767 - accuracy: 0.5519 - val_loss: 1.3939 - val_accuracy: 0.5094\n",
      "Epoch 5/100\n",
      "50000/50000 [==============================] - 6s 128us/sample - loss: 1.1897 - accuracy: 0.5819 - val_loss: 1.3698 - val_accuracy: 0.5175\n",
      "Epoch 6/100\n",
      "50000/50000 [==============================] - 7s 132us/sample - loss: 1.1136 - accuracy: 0.6069 - val_loss: 1.3440 - val_accuracy: 0.5341\n",
      "Epoch 7/100\n",
      "50000/50000 [==============================] - 7s 133us/sample - loss: 1.0412 - accuracy: 0.6321 - val_loss: 1.3891 - val_accuracy: 0.5288\n",
      "Epoch 8/100\n",
      "50000/50000 [==============================] - 7s 135us/sample - loss: 0.9741 - accuracy: 0.6542 - val_loss: 1.3877 - val_accuracy: 0.5392\n",
      "Epoch 9/100\n",
      "50000/50000 [==============================] - 7s 136us/sample - loss: 0.9000 - accuracy: 0.6799 - val_loss: 1.4339 - val_accuracy: 0.5384\n",
      "Epoch 10/100\n",
      "50000/50000 [==============================] - 7s 136us/sample - loss: 0.8345 - accuracy: 0.7038 - val_loss: 1.4487 - val_accuracy: 0.5264\n",
      "Epoch 11/100\n",
      "50000/50000 [==============================] - 7s 136us/sample - loss: 0.7694 - accuracy: 0.7283 - val_loss: 1.4830 - val_accuracy: 0.5406\n",
      "Epoch 12/100\n",
      "50000/50000 [==============================] - 7s 136us/sample - loss: 0.7068 - accuracy: 0.7496 - val_loss: 1.5555 - val_accuracy: 0.5414\n",
      "Epoch 13/100\n",
      "50000/50000 [==============================] - 7s 135us/sample - loss: 0.6510 - accuracy: 0.7694 - val_loss: 1.6050 - val_accuracy: 0.5315\n",
      "Epoch 14/100\n",
      "50000/50000 [==============================] - 7s 139us/sample - loss: 0.6013 - accuracy: 0.7880 - val_loss: 1.7042 - val_accuracy: 0.5340\n",
      "Epoch 15/100\n",
      "50000/50000 [==============================] - 7s 144us/sample - loss: 0.5503 - accuracy: 0.8054 - val_loss: 1.7660 - val_accuracy: 0.5326\n",
      "Epoch 16/100\n",
      "50000/50000 [==============================] - 7s 143us/sample - loss: 0.5110 - accuracy: 0.8194 - val_loss: 1.8130 - val_accuracy: 0.5370\n",
      "Epoch 17/100\n",
      "50000/50000 [==============================] - 7s 144us/sample - loss: 0.4489 - accuracy: 0.8426 - val_loss: 1.8960 - val_accuracy: 0.5376\n",
      "Epoch 18/100\n",
      "50000/50000 [==============================] - 7s 132us/sample - loss: 0.4197 - accuracy: 0.8528 - val_loss: 2.0235 - val_accuracy: 0.5323\n",
      "Epoch 19/100\n",
      "50000/50000 [==============================] - 7s 140us/sample - loss: 0.3806 - accuracy: 0.8663 - val_loss: 2.1254 - val_accuracy: 0.5327\n",
      "Epoch 20/100\n",
      "50000/50000 [==============================] - 7s 130us/sample - loss: 0.3558 - accuracy: 0.8740 - val_loss: 2.2392 - val_accuracy: 0.5343\n",
      "Epoch 21/100\n",
      "50000/50000 [==============================] - 7s 133us/sample - loss: 0.3367 - accuracy: 0.8828 - val_loss: 2.2793 - val_accuracy: 0.5317\n",
      "Epoch 22/100\n",
      "50000/50000 [==============================] - 7s 136us/sample - loss: 0.3084 - accuracy: 0.8932 - val_loss: 2.3649 - val_accuracy: 0.5264\n",
      "Epoch 23/100\n",
      "50000/50000 [==============================] - 7s 147us/sample - loss: 0.2969 - accuracy: 0.8962 - val_loss: 2.3711 - val_accuracy: 0.5384\n",
      "Epoch 24/100\n",
      "50000/50000 [==============================] - 7s 138us/sample - loss: 0.2713 - accuracy: 0.9046 - val_loss: 2.4951 - val_accuracy: 0.5290\n",
      "Epoch 25/100\n",
      "50000/50000 [==============================] - 7s 142us/sample - loss: 0.2436 - accuracy: 0.9147 - val_loss: 2.5392 - val_accuracy: 0.5299\n",
      "Epoch 26/100\n",
      "50000/50000 [==============================] - 7s 131us/sample - loss: 0.2347 - accuracy: 0.9184 - val_loss: 2.7474 - val_accuracy: 0.5225\n",
      "Epoch 27/100\n",
      "50000/50000 [==============================] - 7s 135us/sample - loss: 0.2313 - accuracy: 0.9189 - val_loss: 2.7999 - val_accuracy: 0.5349\n",
      "Epoch 28/100\n",
      "50000/50000 [==============================] - 7s 139us/sample - loss: 0.2283 - accuracy: 0.9208 - val_loss: 2.8880 - val_accuracy: 0.5285\n",
      "Epoch 29/100\n",
      "50000/50000 [==============================] - 7s 138us/sample - loss: 0.1966 - accuracy: 0.9316 - val_loss: 3.0574 - val_accuracy: 0.5260\n",
      "Epoch 30/100\n",
      "50000/50000 [==============================] - 7s 135us/sample - loss: 0.1879 - accuracy: 0.9360 - val_loss: 3.1028 - val_accuracy: 0.5331\n",
      "Epoch 31/100\n",
      "50000/50000 [==============================] - 7s 134us/sample - loss: 0.2036 - accuracy: 0.9301 - val_loss: 3.0654 - val_accuracy: 0.5211\n",
      "Epoch 32/100\n",
      "50000/50000 [==============================] - 7s 132us/sample - loss: 0.2074 - accuracy: 0.9283 - val_loss: 3.0220 - val_accuracy: 0.5301\n",
      "Epoch 33/100\n",
      "50000/50000 [==============================] - 7s 139us/sample - loss: 0.1852 - accuracy: 0.9350 - val_loss: 3.1948 - val_accuracy: 0.5296\n",
      "Epoch 34/100\n",
      "50000/50000 [==============================] - 7s 142us/sample - loss: 0.1735 - accuracy: 0.9398 - val_loss: 3.2622 - val_accuracy: 0.5305\n",
      "Epoch 35/100\n",
      "50000/50000 [==============================] - 7s 136us/sample - loss: 0.1725 - accuracy: 0.9406 - val_loss: 3.1588 - val_accuracy: 0.5238\n",
      "Epoch 36/100\n",
      "50000/50000 [==============================] - 6s 126us/sample - loss: 0.1517 - accuracy: 0.9492 - val_loss: 3.3839 - val_accuracy: 0.5275\n",
      "Epoch 37/100\n",
      "50000/50000 [==============================] - 7s 131us/sample - loss: 0.1506 - accuracy: 0.9480 - val_loss: 3.3460 - val_accuracy: 0.5229\n",
      "Epoch 38/100\n",
      "50000/50000 [==============================] - 6s 127us/sample - loss: 0.1573 - accuracy: 0.9461 - val_loss: 3.3125 - val_accuracy: 0.5293\n",
      "Epoch 39/100\n",
      "50000/50000 [==============================] - 6s 127us/sample - loss: 0.1754 - accuracy: 0.9397 - val_loss: 3.5373 - val_accuracy: 0.5257\n",
      "Epoch 40/100\n",
      "50000/50000 [==============================] - 6s 126us/sample - loss: 0.1416 - accuracy: 0.9505 - val_loss: 3.6544 - val_accuracy: 0.5306\n",
      "Epoch 41/100\n",
      "50000/50000 [==============================] - 6s 127us/sample - loss: 0.1227 - accuracy: 0.9582 - val_loss: 3.6209 - val_accuracy: 0.5300\n",
      "Epoch 42/100\n",
      "50000/50000 [==============================] - 6s 127us/sample - loss: 0.1184 - accuracy: 0.9601 - val_loss: 3.7574 - val_accuracy: 0.5286\n",
      "Epoch 43/100\n",
      "50000/50000 [==============================] - 6s 124us/sample - loss: 0.1403 - accuracy: 0.9516 - val_loss: 3.6755 - val_accuracy: 0.5142\n",
      "Epoch 44/100\n",
      "50000/50000 [==============================] - 6s 126us/sample - loss: 0.1436 - accuracy: 0.9514 - val_loss: 3.6944 - val_accuracy: 0.5275\n",
      "Epoch 45/100\n",
      "50000/50000 [==============================] - 6s 123us/sample - loss: 0.1269 - accuracy: 0.9572 - val_loss: 3.7252 - val_accuracy: 0.5240\n",
      "Epoch 46/100\n",
      "50000/50000 [==============================] - 6s 125us/sample - loss: 0.1574 - accuracy: 0.9472 - val_loss: 3.7517 - val_accuracy: 0.5269\n",
      "Epoch 47/100\n",
      "50000/50000 [==============================] - 6s 124us/sample - loss: 0.1187 - accuracy: 0.9600 - val_loss: 3.8318 - val_accuracy: 0.5284\n",
      "Epoch 48/100\n",
      "50000/50000 [==============================] - 6s 125us/sample - loss: 0.1145 - accuracy: 0.9615 - val_loss: 3.7988 - val_accuracy: 0.5219\n",
      "Epoch 49/100\n",
      "50000/50000 [==============================] - 6s 126us/sample - loss: 0.1351 - accuracy: 0.9548 - val_loss: 3.8786 - val_accuracy: 0.5281\n",
      "Epoch 50/100\n",
      "50000/50000 [==============================] - 6s 124us/sample - loss: 0.1268 - accuracy: 0.9576 - val_loss: 3.8214 - val_accuracy: 0.5262\n",
      "Epoch 51/100\n",
      "50000/50000 [==============================] - 6s 126us/sample - loss: 0.1000 - accuracy: 0.9667 - val_loss: 3.9420 - val_accuracy: 0.5289\n",
      "Epoch 52/100\n",
      "50000/50000 [==============================] - 6s 125us/sample - loss: 0.1084 - accuracy: 0.9633 - val_loss: 3.8991 - val_accuracy: 0.5225\n",
      "Epoch 53/100\n",
      "50000/50000 [==============================] - 6s 125us/sample - loss: 0.1149 - accuracy: 0.9605 - val_loss: 4.0767 - val_accuracy: 0.5183\n",
      "Epoch 54/100\n"
     ]
    },
    {
     "name": "stdout",
     "output_type": "stream",
     "text": [
      "50000/50000 [==============================] - 6s 117us/sample - loss: 0.1195 - accuracy: 0.9592 - val_loss: 3.9374 - val_accuracy: 0.5345\n",
      "Epoch 55/100\n",
      "50000/50000 [==============================] - 6s 117us/sample - loss: 0.0954 - accuracy: 0.9682 - val_loss: 4.0117 - val_accuracy: 0.5294\n",
      "Epoch 56/100\n",
      "50000/50000 [==============================] - 6s 118us/sample - loss: 0.1124 - accuracy: 0.9617 - val_loss: 4.1041 - val_accuracy: 0.5268\n",
      "Epoch 57/100\n",
      "50000/50000 [==============================] - 6s 118us/sample - loss: 0.1232 - accuracy: 0.9592 - val_loss: 3.9983 - val_accuracy: 0.5253\n",
      "Epoch 58/100\n",
      "50000/50000 [==============================] - 6s 116us/sample - loss: 0.0740 - accuracy: 0.9753 - val_loss: 4.1923 - val_accuracy: 0.5345\n",
      "Epoch 59/100\n",
      "50000/50000 [==============================] - 6s 118us/sample - loss: 0.1015 - accuracy: 0.9665 - val_loss: 4.1033 - val_accuracy: 0.5257\n",
      "Epoch 60/100\n",
      "50000/50000 [==============================] - 6s 117us/sample - loss: 0.1043 - accuracy: 0.9664 - val_loss: 3.9957 - val_accuracy: 0.5281\n",
      "Epoch 61/100\n",
      "50000/50000 [==============================] - 6s 118us/sample - loss: 0.0937 - accuracy: 0.9685 - val_loss: 4.2030 - val_accuracy: 0.5258\n",
      "Epoch 62/100\n",
      "50000/50000 [==============================] - 6s 117us/sample - loss: 0.1177 - accuracy: 0.9613 - val_loss: 4.0482 - val_accuracy: 0.5233\n",
      "Epoch 63/100\n",
      "50000/50000 [==============================] - 6s 121us/sample - loss: 0.0959 - accuracy: 0.9680 - val_loss: 3.9851 - val_accuracy: 0.5300\n",
      "Epoch 64/100\n",
      "50000/50000 [==============================] - 6s 120us/sample - loss: 0.0910 - accuracy: 0.9694 - val_loss: 4.3711 - val_accuracy: 0.5296\n",
      "Epoch 65/100\n",
      "50000/50000 [==============================] - 6s 118us/sample - loss: 0.0874 - accuracy: 0.9716 - val_loss: 4.2875 - val_accuracy: 0.5299\n",
      "Epoch 66/100\n",
      "50000/50000 [==============================] - 6s 119us/sample - loss: 0.0939 - accuracy: 0.9693 - val_loss: 4.1221 - val_accuracy: 0.5339\n",
      "Epoch 67/100\n",
      "50000/50000 [==============================] - 6s 118us/sample - loss: 0.0839 - accuracy: 0.9726 - val_loss: 4.1337 - val_accuracy: 0.5304\n",
      "Epoch 68/100\n",
      "50000/50000 [==============================] - 6s 121us/sample - loss: 0.0998 - accuracy: 0.9669 - val_loss: 4.1501 - val_accuracy: 0.5244\n",
      "Epoch 69/100\n",
      "50000/50000 [==============================] - 6s 119us/sample - loss: 0.0970 - accuracy: 0.9685 - val_loss: 4.1400 - val_accuracy: 0.5372\n",
      "Epoch 70/100\n",
      "50000/50000 [==============================] - 6s 121us/sample - loss: 0.0802 - accuracy: 0.9744 - val_loss: 4.2580 - val_accuracy: 0.5305\n",
      "Epoch 71/100\n",
      "50000/50000 [==============================] - 8s 151us/sample - loss: 0.0584 - accuracy: 0.9796 - val_loss: 4.3288 - val_accuracy: 0.5320\n",
      "Epoch 72/100\n",
      "50000/50000 [==============================] - 6s 122us/sample - loss: 0.1060 - accuracy: 0.9663 - val_loss: 4.0093 - val_accuracy: 0.5263\n",
      "Epoch 73/100\n",
      "50000/50000 [==============================] - 6s 116us/sample - loss: 0.0944 - accuracy: 0.9687 - val_loss: 4.2091 - val_accuracy: 0.5343\n",
      "Epoch 74/100\n",
      "50000/50000 [==============================] - 6s 116us/sample - loss: 0.0867 - accuracy: 0.9717 - val_loss: 4.2213 - val_accuracy: 0.5296\n",
      "Epoch 75/100\n",
      "50000/50000 [==============================] - 6s 118us/sample - loss: 0.0660 - accuracy: 0.9781 - val_loss: 4.4086 - val_accuracy: 0.5290\n",
      "Epoch 76/100\n",
      "50000/50000 [==============================] - 6s 116us/sample - loss: 0.0882 - accuracy: 0.9712 - val_loss: 4.3120 - val_accuracy: 0.5307\n",
      "Epoch 77/100\n",
      "50000/50000 [==============================] - 6s 115us/sample - loss: 0.0842 - accuracy: 0.9710 - val_loss: 4.2765 - val_accuracy: 0.5317\n",
      "Epoch 78/100\n",
      "50000/50000 [==============================] - 6s 116us/sample - loss: 0.0842 - accuracy: 0.9723 - val_loss: 4.3970 - val_accuracy: 0.5298\n",
      "Epoch 79/100\n",
      "50000/50000 [==============================] - 6s 118us/sample - loss: 0.0706 - accuracy: 0.9767 - val_loss: 4.3556 - val_accuracy: 0.5352\n",
      "Epoch 80/100\n",
      "50000/50000 [==============================] - 6s 117us/sample - loss: 0.0839 - accuracy: 0.9722 - val_loss: 4.5327 - val_accuracy: 0.5256\n",
      "Epoch 81/100\n",
      "50000/50000 [==============================] - 6s 118us/sample - loss: 0.0819 - accuracy: 0.9729 - val_loss: 4.3651 - val_accuracy: 0.5283\n",
      "Epoch 82/100\n",
      "50000/50000 [==============================] - 6s 118us/sample - loss: 0.0756 - accuracy: 0.9757 - val_loss: 4.4440 - val_accuracy: 0.5338\n",
      "Epoch 83/100\n",
      "50000/50000 [==============================] - 6s 118us/sample - loss: 0.0542 - accuracy: 0.9824 - val_loss: 4.6370 - val_accuracy: 0.5391\n",
      "Epoch 84/100\n",
      "50000/50000 [==============================] - 6s 117us/sample - loss: 0.0680 - accuracy: 0.9782 - val_loss: 4.5252 - val_accuracy: 0.5266\n",
      "Epoch 85/100\n",
      "50000/50000 [==============================] - 6s 117us/sample - loss: 0.0858 - accuracy: 0.9730 - val_loss: 4.5253 - val_accuracy: 0.5253\n",
      "Epoch 86/100\n",
      "50000/50000 [==============================] - 6s 118us/sample - loss: 0.0772 - accuracy: 0.9744 - val_loss: 4.5671 - val_accuracy: 0.5336\n",
      "Epoch 87/100\n",
      "50000/50000 [==============================] - 6s 118us/sample - loss: 0.0808 - accuracy: 0.9740 - val_loss: 4.4801 - val_accuracy: 0.5287\n",
      "Epoch 88/100\n",
      "50000/50000 [==============================] - 6s 117us/sample - loss: 0.0693 - accuracy: 0.9772 - val_loss: 4.5233 - val_accuracy: 0.5393\n",
      "Epoch 89/100\n",
      "50000/50000 [==============================] - 6s 116us/sample - loss: 0.0595 - accuracy: 0.9803 - val_loss: 4.6542 - val_accuracy: 0.5292\n",
      "Epoch 90/100\n",
      "50000/50000 [==============================] - 6s 117us/sample - loss: 0.0929 - accuracy: 0.9697 - val_loss: 4.4637 - val_accuracy: 0.5294\n",
      "Epoch 91/100\n",
      "50000/50000 [==============================] - 6s 119us/sample - loss: 0.0545 - accuracy: 0.9820 - val_loss: 4.6845 - val_accuracy: 0.5324\n",
      "Epoch 92/100\n",
      "50000/50000 [==============================] - 6s 116us/sample - loss: 0.0697 - accuracy: 0.9776 - val_loss: 4.4953 - val_accuracy: 0.5320\n",
      "Epoch 93/100\n",
      "50000/50000 [==============================] - 6s 118us/sample - loss: 0.0809 - accuracy: 0.9750 - val_loss: 4.4697 - val_accuracy: 0.5309\n",
      "Epoch 94/100\n",
      "50000/50000 [==============================] - 6s 117us/sample - loss: 0.0652 - accuracy: 0.9791 - val_loss: 4.6217 - val_accuracy: 0.5290\n",
      "Epoch 95/100\n",
      "50000/50000 [==============================] - 6s 117us/sample - loss: 0.0698 - accuracy: 0.9778 - val_loss: 4.7170 - val_accuracy: 0.5287\n",
      "Epoch 96/100\n",
      "50000/50000 [==============================] - 6s 117us/sample - loss: 0.0640 - accuracy: 0.9799 - val_loss: 4.5389 - val_accuracy: 0.5333\n",
      "Epoch 97/100\n",
      "50000/50000 [==============================] - 6s 117us/sample - loss: 0.0541 - accuracy: 0.9823 - val_loss: 4.7794 - val_accuracy: 0.5262\n",
      "Epoch 98/100\n",
      "50000/50000 [==============================] - 6s 117us/sample - loss: 0.0699 - accuracy: 0.9778 - val_loss: 4.3918 - val_accuracy: 0.5288\n",
      "Epoch 99/100\n",
      "50000/50000 [==============================] - 6s 123us/sample - loss: 0.0650 - accuracy: 0.9789 - val_loss: 4.5149 - val_accuracy: 0.5330\n",
      "Epoch 100/100\n",
      "50000/50000 [==============================] - 6s 114us/sample - loss: 0.0702 - accuracy: 0.9773 - val_loss: 4.5667 - val_accuracy: 0.5251\n"
     ]
    },
    {
     "data": {
      "text/plain": [
       "<tensorflow.python.keras.callbacks.History at 0x1416b3940>"
      ]
     },
     "execution_count": 11,
     "metadata": {},
     "output_type": "execute_result"
    }
   ],
   "source": [
    "model.fit(x_train, y_train, \n",
    "          epochs=EPOCHS, \n",
    "          batch_size=BATCH_SIZE, \n",
    "          validation_data=(x_test, y_test), \n",
    "          shuffle=True)"
   ]
  },
  {
   "cell_type": "code",
   "execution_count": 13,
   "metadata": {},
   "outputs": [
    {
     "data": {
      "image/png": "[encoded data removed]",
      "text/plain": [
       "<Figure size 432x288 with 1 Axes>"
      ]
     },
     "metadata": {
      "needs_background": "light"
     },
     "output_type": "display_data"
    },
    {
     "data": {
      "image/png": "[encoded data removed]",
      "text/plain": [
       "<Figure size 432x288 with 1 Axes>"
      ]
     },
     "metadata": {
      "needs_background": "light"
     },
     "output_type": "display_data"
    }
   ],
   "source": [
    "import matplotlib.pyplot as plt\n",
    "\n",
    "\n",
    "train_loss = model.history.history[\"loss\"]\n",
    "valid_loss = model.history.history[\"val_loss\"]\n",
    "\n",
    "train_acc = model.history.history[\"accuracy\"]\n",
    "valid_acc = model.history.history[\"val_accuracy\"]\n",
    "\n",
    "plt.plot(range(len(train_loss)), train_loss, label=\"train loss\")\n",
    "plt.plot(range(len(valid_loss)), valid_loss, label=\"valid loss\")\n",
    "plt.legend()\n",
    "plt.title(\"Loss\")\n",
    "plt.show()\n",
    "\n",
    "plt.plot(range(len(train_acc)), train_acc, label=\"train accuracy\")\n",
    "plt.plot(range(len(valid_acc)), valid_acc, label=\"valid accuracy\")\n",
    "plt.legend()\n",
    "plt.title(\"Accuracy\")\n",
    "plt.show()"
   ]
  },
  {
   "cell_type": "code",
   "execution_count": null,
   "metadata": {},
   "outputs": [],
   "source": []
  }
 ],
 "metadata": {
  "kernelspec": {
   "display_name": "Python 3",
   "language": "python",
   "name": "python3"
  },
  "language_info": {
   "codemirror_mode": {
    "name": "ipython",
    "version": 3
   },
   "file_extension": ".py",
   "mimetype": "text/x-python",
   "name": "python",
   "nbconvert_exporter": "python",
   "pygments_lexer": "ipython3",
   "version": "3.7.0"
  }
 },
 "nbformat": 4,
 "nbformat_minor": 2
}
